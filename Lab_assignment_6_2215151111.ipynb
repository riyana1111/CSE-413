{
  "nbformat": 4,
  "nbformat_minor": 0,
  "metadata": {
    "colab": {
      "provenance": [],
      "authorship_tag": "ABX9TyPLp1A7uhlJLZpysyHpifGl",
      "include_colab_link": true
    },
    "kernelspec": {
      "name": "python3",
      "display_name": "Python 3"
    },
    "language_info": {
      "name": "python"
    }
  },
  "cells": [
    {
      "cell_type": "markdown",
      "metadata": {
        "id": "view-in-github",
        "colab_type": "text"
      },
      "source": [
        "<a href=\"https://colab.research.google.com/github/riyana1111/CSE-413/blob/main/Lab_assignment_6_2215151111.ipynb\" target=\"_parent\"><img src=\"https://colab.research.google.com/assets/colab-badge.svg\" alt=\"Open In Colab\"/></a>"
      ]
    },
    {
      "cell_type": "code",
      "execution_count": null,
      "metadata": {
        "colab": {
          "base_uri": "https://localhost:8080/"
        },
        "id": "P83oF7In5D-K",
        "outputId": "a997c347-37ab-4734-f10e-bfc36b70c9ad"
      },
      "outputs": [
        {
          "output_type": "stream",
          "name": "stdout",
          "text": [
            "Estimated Average Order Size: 68.2\n",
            "Average Total Cost per Week: 193.2\n"
          ]
        }
      ],
      "source": [
        "import numpy as np\n",
        "\n",
        "# Inventory levels and probabilities\n",
        "inventory_levels = [15, 25, 35, 40, 42, 55]\n",
        "probabilities = [0.12, 0.25, 0.35, 0.20, 0.06, 0.02]\n",
        "\n",
        "# Simulation parameters\n",
        "weeks = 60\n",
        "orders = weeks // 2\n",
        "\n",
        "order_sizes = []\n",
        "total_order_cost = 0\n",
        "total_holding_cost = 0\n",
        "\n",
        "for i in range(orders):\n",
        "    inventory = np.random.choice(inventory_levels, p=probabilities)\n",
        "    order_size = 100 - inventory\n",
        "    order_cost = 50 + (order_size * 4)\n",
        "    holding_cost = inventory * 2  # 2 weeks of holding\n",
        "\n",
        "    total_order_cost += order_cost\n",
        "    total_holding_cost += holding_cost\n",
        "    order_sizes.append(order_size)\n",
        "\n",
        "# Results\n",
        "average_order_size = np.mean(order_sizes)\n",
        "average_total_cost = (total_order_cost + total_holding_cost) / weeks\n",
        "\n",
        "print(\"Estimated Average Order Size:\", round(average_order_size, 2))\n",
        "print(\"Average Total Cost per Week:\", round(average_total_cost, 2))"
      ]
    },
    {
      "cell_type": "code",
      "source": [
        "import numpy as np\n",
        "\n",
        "np.random.seed(1)\n",
        "\n",
        "num_customers = 200\n",
        "lam = 3  # average arrival rate (mean interarrival time = 1/λ)\n",
        "mu = 4     # average service rate (mean service time = 1/μ)\n",
        "\n",
        "interarrival_times = np.random.exponential(1/lam, num_customers)\n",
        "arrival_times = np.cumsum(interarrival_times)\n",
        "service_times = np.random.exponential(1/mu, num_customers)\n",
        "\n",
        "start_times = np.zeros(num_customers)\n",
        "end_times = np.zeros(num_customers)\n",
        "wait_times = np.zeros(num_customers)\n",
        "\n",
        "for i in range(num_customers):\n",
        "    if i == 0:\n",
        "        start_times[i] = arrival_times[i]\n",
        "    else:\n",
        "        start_times[i] = max(arrival_times[i], end_times[i-1])\n",
        "    end_times[i] = start_times[i] + service_times[i]\n",
        "    wait_times[i] = start_times[i] - arrival_times[i]\n",
        "\n",
        "# Metrics\n",
        "avg_wait = np.mean(wait_times)\n",
        "total_time = end_times[-1]\n",
        "server_utilization = np.sum(service_times) / total_time\n",
        "\n",
        "print(\"Average Wait Time:\", round(avg_wait, 2))\n",
        "print(\"Server Utilization:\", round(server_utilization * 100, 2), \"%\")\n"
      ],
      "metadata": {
        "colab": {
          "base_uri": "https://localhost:8080/"
        },
        "id": "EmiNZC9Z5XXh",
        "outputId": "d764fb07-9a94-4f49-e7e6-0b1ba07ebe9b"
      },
      "execution_count": null,
      "outputs": [
        {
          "output_type": "stream",
          "name": "stdout",
          "text": [
            "Average Wait Time: 1.05\n",
            "Server Utilization: 81.31 %\n"
          ]
        }
      ]
    },
    {
      "cell_type": "code",
      "source": [
        "import numpy as np\n",
        "\n",
        "np.random.seed(1)\n",
        "\n",
        "num_customers = 200\n",
        "lam = 8  # average arrival rate (mean interarrival time = 1/λ)\n",
        "mu = 6     # average service rate (mean service time = 1/μ)\n",
        "\n",
        "interarrival_times = np.random.exponential(1/lam, num_customers)\n",
        "arrival_times = np.cumsum(interarrival_times)\n",
        "service_times = np.random.exponential(1/mu, num_customers)\n",
        "\n",
        "start_times = np.zeros(num_customers)\n",
        "end_times = np.zeros(num_customers)\n",
        "wait_times = np.zeros(num_customers)\n",
        "\n",
        "for i in range(num_customers):\n",
        "    if i == 0:\n",
        "        start_times[i] = arrival_times[i]\n",
        "    else:\n",
        "        start_times[i] = max(arrival_times[i], end_times[i-1])\n",
        "    end_times[i] = start_times[i] + service_times[i]\n",
        "    wait_times[i] = start_times[i] - arrival_times[i]\n",
        "\n",
        "# Metrics\n",
        "avg_wait = np.mean(wait_times)\n",
        "total_time = end_times[-1]\n",
        "server_utilization = np.sum(service_times) / total_time\n",
        "\n",
        "print(\"Average Wait Time:\", round(avg_wait, 2))\n",
        "print(\"Server Utilization:\", round(server_utilization * 100, 2), \"%\")"
      ],
      "metadata": {
        "colab": {
          "base_uri": "https://localhost:8080/"
        },
        "id": "blp3hypy5jqq",
        "outputId": "d3c0cadd-4d6e-472e-f298-16d6c3c1ebe5"
      },
      "execution_count": null,
      "outputs": [
        {
          "output_type": "stream",
          "name": "stdout",
          "text": [
            "Average Wait Time: 6.33\n",
            "Server Utilization: 99.81 %\n"
          ]
        }
      ]
    },
    {
      "cell_type": "code",
      "source": [
        "queue_limit = 10\n",
        "queue = []\n",
        "accepted_customers = 0\n",
        "rejected_customers = 0\n",
        "current_time = 0\n",
        "end_time = 0\n",
        "waits = []\n",
        "\n",
        "for i in range(num_customers):\n",
        "    arrival = current_time + np.random.exponential(1/lam)\n",
        "    service = np.random.exponential(1/mu)\n",
        "\n",
        "    # Remove customers whose service has ended\n",
        "    queue = [q for q in queue if q > arrival]\n",
        "\n",
        "    if len(queue) < queue_limit:\n",
        "        start = max(arrival, end_time)\n",
        "        end_time = start + service\n",
        "        queue.append(end_time)\n",
        "        waits.append(start - arrival)\n",
        "        accepted_customers += 1\n",
        "    else:\n",
        "        rejected_customers += 1\n",
        "\n",
        "    current_time = arrival\n",
        "\n",
        "# Final metrics\n",
        "print(\"Accepted Customers:\", accepted_customers)\n",
        "print(\"Rejected Customers:\", rejected_customers)\n",
        "print(\"Average Wait Time:\", round(np.mean(waits), 2))"
      ],
      "metadata": {
        "colab": {
          "base_uri": "https://localhost:8080/"
        },
        "id": "jP9frGmT5pJC",
        "outputId": "2e68701f-4c0f-4b11-f67e-1e4a9615a2f9"
      },
      "execution_count": null,
      "outputs": [
        {
          "output_type": "stream",
          "name": "stdout",
          "text": [
            "Accepted Customers: 171\n",
            "Rejected Customers: 29\n",
            "Average Wait Time: 0.84\n"
          ]
        }
      ]
    }
  ]
}