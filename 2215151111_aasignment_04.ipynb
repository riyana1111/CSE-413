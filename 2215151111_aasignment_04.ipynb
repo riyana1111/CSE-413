{
  "nbformat": 4,
  "nbformat_minor": 0,
  "metadata": {
    "colab": {
      "provenance": [],
      "authorship_tag": "ABX9TyOgtW0OaBMnh/p8tkKUn8ht",
      "include_colab_link": true
    },
    "kernelspec": {
      "name": "python3",
      "display_name": "Python 3"
    },
    "language_info": {
      "name": "python"
    }
  },
  "cells": [
    {
      "cell_type": "markdown",
      "metadata": {
        "id": "view-in-github",
        "colab_type": "text"
      },
      "source": [
        "<a href=\"https://colab.research.google.com/github/riyana1111/CSE-413/blob/main/2215151111_aasignment_04.ipynb\" target=\"_parent\"><img src=\"https://colab.research.google.com/assets/colab-badge.svg\" alt=\"Open In Colab\"/></a>"
      ]
    },
    {
      "cell_type": "code",
      "execution_count": null,
      "metadata": {
        "id": "eb_EPH0k8rUL"
      },
      "outputs": [],
      "source": []
    },
    {
      "cell_type": "markdown",
      "source": [
        "Generate two sets of from a normal distribution and perform a two-sample t-test.\n",
        "\n",
        "Randomly generate 50 values from a normal distribution with a chosen mean (μ1) and standard deviation.\n",
        "Randomly generate 50 values from a normal distribution with a different mean (μ2) and standard deviation.\n",
        "\n",
        "\n",
        "Use and determine whether the means differ significantly."
      ],
      "metadata": {
        "id": "hygW6lGB94i7"
      }
    },
    {
      "cell_type": "code",
      "source": [
        "import numpy as np\n",
        "from scipy import stats\n",
        "\n",
        "mean1 = 10\n",
        "std_dev1 = 2\n",
        "mean2 = 12\n",
        "std_dev2 = 2\n",
        "\n",
        "sample1 = np.random.normal(loc=mean1, scale=std_dev1, size=50)\n",
        "sample2 = np.random.normal(loc=mean2, scale=std_dev2, size=50)\n",
        "\n",
        "t_statistic, p_value = stats.ttest_ind(sample1, sample2)\n",
        "\n",
        "\n",
        "print(f\"Sample 1 Mean: {np.mean(sample1):.2f}\")\n",
        "print(f\"Sample 2 Mean: {np.mean(sample2):.2f}\")\n",
        "print(f\"T-statistic: {t_statistic:.2f}\")\n",
        "print(f\"P-value: {p_value:.4f}\")\n",
        "\n",
        "\n",
        "alpha = 0.05\n",
        "if p_value < alpha:\n",
        "    print(\"The means differ significantly (reject the null hypothesis).\")\n",
        "else:\n",
        "    print(\"The means do not differ significantly (fail to reject the null hypothesis).\")"
      ],
      "metadata": {
        "colab": {
          "base_uri": "https://localhost:8080/"
        },
        "id": "DUEkvdYH961i",
        "outputId": "1cc9ed6a-3fad-4b9f-d09d-de66edb3fd91"
      },
      "execution_count": 2,
      "outputs": [
        {
          "output_type": "stream",
          "name": "stdout",
          "text": [
            "Sample 1 Mean: 10.54\n",
            "Sample 2 Mean: 11.98\n",
            "T-statistic: -3.62\n",
            "P-value: 0.0005\n",
            "The means differ significantly (reject the null hypothesis).\n"
          ]
        }
      ]
    }
  ]
}